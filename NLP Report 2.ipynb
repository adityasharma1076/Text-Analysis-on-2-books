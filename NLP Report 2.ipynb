{
 "cells": [
  {
   "cell_type": "code",
   "execution_count": 1,
   "metadata": {},
   "outputs": [],
   "source": [
    "import pandas as pd\n",
    "import numpy as np\n",
    "import nltk\n",
    "import re\n",
    "import string\n",
    "from nltk.tokenize import word_tokenize\n",
    "from num2words import num2words\n",
    "import seaborn as sns\n",
    "import matplotlib.pyplot as plt\n",
    "from wordcloud import WordCloud, STOPWORDS"
   ]
  },
  {
   "cell_type": "code",
   "execution_count": 2,
   "metadata": {},
   "outputs": [],
   "source": [
    "from docx import Document"
   ]
  },
  {
   "cell_type": "code",
   "execution_count": 3,
   "metadata": {},
   "outputs": [],
   "source": [
    "T = Document('book2.docx')  ## Document() function reads docx file and stores it in the variable T"
   ]
  },
  {
   "cell_type": "code",
   "execution_count": 4,
   "metadata": {},
   "outputs": [],
   "source": [
    "fullText = []\n",
    "for paragraph in T.paragraphs:\n",
    "    fullText.append(paragraph.text)"
   ]
  },
  {
   "cell_type": "code",
   "execution_count": 5,
   "metadata": {},
   "outputs": [
    {
     "data": {
      "text/plain": [
       "['WALDEN',\n",
       " '',\n",
       " 'Economy',\n",
       " '',\n",
       " 'When I wrote the following pages, or rather the bulk of them, I lived',\n",
       " 'alone, in the woods, a mile from any neighbor, in a house which I had',\n",
       " 'built myself, on the shore of Walden Pond, in Concord, Massachusetts,',\n",
       " 'and earned my living by the labor of my hands only. I lived there two',\n",
       " 'years and two months. At present I am a sojourner in civilized life',\n",
       " 'again.']"
      ]
     },
     "execution_count": 5,
     "metadata": {},
     "output_type": "execute_result"
    }
   ],
   "source": [
    "fullText[:10]"
   ]
  },
  {
   "cell_type": "code",
   "execution_count": 6,
   "metadata": {},
   "outputs": [],
   "source": [
    "exclude = set(string.punctuation)                                    #Set containing charachters to exclude\n",
    "\n",
    "def remove_apostrophe(data):                                         # Function to remove apostrophe and other similar charachters\n",
    "    data = np.char.replace(data,\"’\",\"\")\n",
    "    data = np.char.replace(data, \"'\", \"\")\n",
    "    data = np.char.replace(data, \"‘\", \"\")\n",
    "        \n",
    "    return data                                                      # Returns updated text\n",
    "\n",
    "def remove_punctuation(data):                                        # Function to remove punctuation,hyphen,etc..\n",
    "    for i in (exclude):\n",
    "        data = np.char.replace(data, i, ' ')\n",
    "        #data = np.char.replace(data, \" \", \"\")\n",
    "    data = np.char.replace(data, ',', ' ')\n",
    "    data = np.char.replace(data, \"“\", \"\")\n",
    "    data = np.char.replace(data, '\"', \"\")\n",
    "    data = np.char.replace(data, \"-\", \" \")\n",
    "    \n",
    "    return data\n",
    "\n",
    "def convert_numbers(data):                                          #Converts numbers to words using num2words\n",
    "    tokens = word_tokenize(str(data))\n",
    "    new_text = \"\"\n",
    "    for w in tokens:\n",
    "        try:\n",
    "            w = num2words(int(w))\n",
    "        except:\n",
    "            a = 0\n",
    "        new_text = new_text + \" \" + w\n",
    "   \n",
    "    return new_text\n"
   ]
  },
  {
   "cell_type": "code",
   "execution_count": 7,
   "metadata": {},
   "outputs": [],
   "source": [
    "new_list = []                                    # List data structure to store preprocessed data \n",
    "for data in fullText:                            #Loops over fullText to apply data preprocessing function\n",
    "    data = remove_apostrophe(data)\n",
    "    data = remove_punctuation(data)\n",
    "    data = convert_numbers(data)\n",
    "    new_list.append(data)                       # Preprocessed data is appended to new_list"
   ]
  },
  {
   "cell_type": "code",
   "execution_count": 8,
   "metadata": {},
   "outputs": [
    {
     "data": {
      "text/plain": [
       "[' WALDEN',\n",
       " '',\n",
       " ' Economy',\n",
       " '',\n",
       " ' When I wrote the following pages or rather the bulk of them I lived',\n",
       " ' alone in the woods a mile from any neighbor in a house which I had',\n",
       " ' built myself on the shore of Walden Pond in Concord Massachusetts',\n",
       " ' and earned my living by the labor of my hands only I lived there two',\n",
       " ' years and two months At present I am a sojourner in civilized life',\n",
       " ' again']"
      ]
     },
     "execution_count": 8,
     "metadata": {},
     "output_type": "execute_result"
    }
   ],
   "source": [
    "new_list[:10]                                   # First 10 elements"
   ]
  },
  {
   "cell_type": "code",
   "execution_count": 9,
   "metadata": {},
   "outputs": [],
   "source": [
    "#Chapter heading were in BLOCK Letters, Remaining data stored in new_list_2\n",
    "new_list_2 = []                             \n",
    "for data in new_list:\n",
    "    if not (data.isupper()):\n",
    "        new_list_2.append(data)"
   ]
  },
  {
   "cell_type": "code",
   "execution_count": 10,
   "metadata": {},
   "outputs": [],
   "source": [
    "documents = []\n",
    "for item in new_list_2:\n",
    "    if(len(item)!=0):\n",
    "        documents.append(item)"
   ]
  },
  {
   "cell_type": "code",
   "execution_count": 11,
   "metadata": {},
   "outputs": [],
   "source": [
    "#Imported SnowballStemmer to use in future algorithms\n",
    "\n",
    "from nltk.stem.snowball import SnowballStemmer  \n",
    "stemmer = SnowballStemmer(\"english\")               "
   ]
  },
  {
   "cell_type": "code",
   "execution_count": 12,
   "metadata": {},
   "outputs": [],
   "source": [
    "#Tokenizes and stems text \n",
    "def tokenize_and_stem(text):\n",
    "   \n",
    "    tokens = [word for sent in nltk.sent_tokenize(text) for word in nltk.word_tokenize(sent)]\n",
    "    filtered_tokens = []\n",
    "\n",
    "    for token in tokens:\n",
    "        if re.search('[a-zA-Z]', token):\n",
    "            filtered_tokens.append(token)\n",
    "    stems = [stemmer.stem(t) for t in filtered_tokens]\n",
    "    \n",
    "    return stems "
   ]
  },
  {
   "cell_type": "code",
   "execution_count": 13,
   "metadata": {},
   "outputs": [],
   "source": [
    "#Tokenizes data\n",
    "def tokenize_only(text):\n",
    "\n",
    "    tokens = [word.lower() for sent in nltk.sent_tokenize(text) for word in nltk.word_tokenize(sent)]\n",
    "    filtered_tokens = []\n",
    "   \n",
    "    for token in tokens:\n",
    "        if re.search('[a-zA-Z]', token):\n",
    "            filtered_tokens.append(token)\n",
    "    return filtered_tokens"
   ]
  },
  {
   "cell_type": "code",
   "execution_count": 14,
   "metadata": {},
   "outputs": [],
   "source": [
    "## Implemented Functions defined above and stored text in List data Structure\n",
    "Text_stemmed = []\n",
    "Text_tokenized = []\n",
    "for i in documents:\n",
    "       \n",
    "    allwords_stemmed = tokenize_and_stem(i)            #for each item in 'fullText', tokenize/stem\n",
    "    Text_stemmed.extend(allwords_stemmed)              #extend the 'Text_stemmed' list\n",
    "    \n",
    "    allwords_tokenized = tokenize_only(i)              #only tokenizes\n",
    "    Text_tokenized.extend(allwords_tokenized)          # extends Text_tokenize by adding newly tokenized list of words"
   ]
  },
  {
   "cell_type": "code",
   "execution_count": 15,
   "metadata": {},
   "outputs": [
    {
     "data": {
      "text/plain": [
       "['economy',\n",
       " 'when',\n",
       " 'i',\n",
       " 'wrote',\n",
       " 'the',\n",
       " 'following',\n",
       " 'pages',\n",
       " 'or',\n",
       " 'rather',\n",
       " 'the',\n",
       " 'bulk']"
      ]
     },
     "execution_count": 15,
     "metadata": {},
     "output_type": "execute_result"
    }
   ],
   "source": [
    "Text_tokenized[:11]                                   # Tokenized words"
   ]
  },
  {
   "cell_type": "code",
   "execution_count": 16,
   "metadata": {},
   "outputs": [],
   "source": [
    "Words = pd.DataFrame(Text_tokenized,columns=['Words'])          #Created a dataframe out of Stemmed Words"
   ]
  },
  {
   "cell_type": "code",
   "execution_count": 17,
   "metadata": {},
   "outputs": [
    {
     "data": {
      "text/plain": [
       "the           7323\n",
       "and           4582\n",
       "of            3490\n",
       "to            3117\n",
       "a             3037\n",
       "              ... \n",
       "coincide         1\n",
       "concur           1\n",
       "requested        1\n",
       "respecting       1\n",
       "leakiest         1\n",
       "Name: Words, Length: 11237, dtype: int64"
      ]
     },
     "execution_count": 17,
     "metadata": {},
     "output_type": "execute_result"
    }
   ],
   "source": [
    "Words['Words'].value_counts()                                 #Count of words"
   ]
  },
  {
   "cell_type": "code",
   "execution_count": 18,
   "metadata": {},
   "outputs": [
    {
     "data": {
      "text/html": [
       "<div>\n",
       "<style scoped>\n",
       "    .dataframe tbody tr th:only-of-type {\n",
       "        vertical-align: middle;\n",
       "    }\n",
       "\n",
       "    .dataframe tbody tr th {\n",
       "        vertical-align: top;\n",
       "    }\n",
       "\n",
       "    .dataframe thead th {\n",
       "        text-align: right;\n",
       "    }\n",
       "</style>\n",
       "<table border=\"1\" class=\"dataframe\">\n",
       "  <thead>\n",
       "    <tr style=\"text-align: right;\">\n",
       "      <th></th>\n",
       "      <th>Words</th>\n",
       "      <th>Counts</th>\n",
       "    </tr>\n",
       "  </thead>\n",
       "  <tbody>\n",
       "    <tr>\n",
       "      <th>0</th>\n",
       "      <td>the</td>\n",
       "      <td>7323</td>\n",
       "    </tr>\n",
       "    <tr>\n",
       "      <th>1</th>\n",
       "      <td>and</td>\n",
       "      <td>4582</td>\n",
       "    </tr>\n",
       "    <tr>\n",
       "      <th>2</th>\n",
       "      <td>of</td>\n",
       "      <td>3490</td>\n",
       "    </tr>\n",
       "    <tr>\n",
       "      <th>3</th>\n",
       "      <td>to</td>\n",
       "      <td>3117</td>\n",
       "    </tr>\n",
       "    <tr>\n",
       "      <th>4</th>\n",
       "      <td>a</td>\n",
       "      <td>3037</td>\n",
       "    </tr>\n",
       "    <tr>\n",
       "      <th>5</th>\n",
       "      <td>in</td>\n",
       "      <td>2059</td>\n",
       "    </tr>\n",
       "    <tr>\n",
       "      <th>6</th>\n",
       "      <td>i</td>\n",
       "      <td>1989</td>\n",
       "    </tr>\n",
       "    <tr>\n",
       "      <th>7</th>\n",
       "      <td>it</td>\n",
       "      <td>1711</td>\n",
       "    </tr>\n",
       "    <tr>\n",
       "      <th>8</th>\n",
       "      <td>is</td>\n",
       "      <td>1330</td>\n",
       "    </tr>\n",
       "    <tr>\n",
       "      <th>9</th>\n",
       "      <td>that</td>\n",
       "      <td>1321</td>\n",
       "    </tr>\n",
       "  </tbody>\n",
       "</table>\n",
       "</div>"
      ],
      "text/plain": [
       "  Words  Counts\n",
       "0   the    7323\n",
       "1   and    4582\n",
       "2    of    3490\n",
       "3    to    3117\n",
       "4     a    3037\n",
       "5    in    2059\n",
       "6     i    1989\n",
       "7    it    1711\n",
       "8    is    1330\n",
       "9  that    1321"
      ]
     },
     "execution_count": 18,
     "metadata": {},
     "output_type": "execute_result"
    }
   ],
   "source": [
    "#Count of words added to the dataframe with a new column\n",
    "\n",
    "Counts = pd.DataFrame(Words['Words'].value_counts())\n",
    "Counts = Counts.reset_index()\n",
    "Counts = Counts.rename(columns={\"index\": \"Words\", \"Words\": \"Counts\"})\n",
    "Counts.head(10)"
   ]
  },
  {
   "cell_type": "code",
   "execution_count": 19,
   "metadata": {},
   "outputs": [
    {
     "name": "stdout",
     "output_type": "stream",
     "text": [
      "[nltk_data] Downloading package stopwords to\n",
      "[nltk_data]     C:\\Users\\drago/nltk_data...\n",
      "[nltk_data]   Package stopwords is already up-to-date!\n",
      "[nltk_data] Downloading package punkt to C:\\Users\\drago/nltk_data...\n",
      "[nltk_data]   Package punkt is already up-to-date!\n"
     ]
    },
    {
     "data": {
      "text/plain": [
       "True"
      ]
     },
     "execution_count": 19,
     "metadata": {},
     "output_type": "execute_result"
    }
   ],
   "source": [
    "from nltk.corpus import stopwords\n",
    "nltk.download('stopwords')\n",
    "nltk.download('punkt')"
   ]
  },
  {
   "cell_type": "code",
   "execution_count": 20,
   "metadata": {},
   "outputs": [],
   "source": [
    "stop = ['a', 'about', 'above', 'across', 'after', 'afterwards', 'again', 'against', 'all', 'almost', 'alone',\n",
    "             'along', 'already', 'also', 'although', 'always', 'am', 'among', 'amongst', 'amoungst', 'amount',\n",
    "             'an', 'and', 'another', 'any', 'anyhow', 'anyone', 'anything', 'anyway', 'anywhere', 'are', 'around',\n",
    "             'as', 'at', 'back', 'be', 'became', 'because', 'become', 'becomes', 'becoming', 'been', 'before',\n",
    "             'beforehand', 'behind', 'being', 'below', 'beside', 'besides', 'between', 'beyond', 'bill', 'both',\n",
    "             'bottom', 'but', 'by', 'call', 'can', 'cannot', 'cant', 'co', 'con', 'could', 'couldnt', 'cry', 'de',\n",
    "             'describe', 'detail', 'did', 'do', 'does', 'doing', 'don', 'done', 'down', 'due', 'during', 'each', 'eg',\n",
    "             'eight', 'either', 'eleven', 'else', 'elsewhere', 'empty', 'enough', 'etc', 'even', 'ever', 'every', 'everyone',\n",
    "             'everything', 'everywhere', 'except', 'few', 'fifteen', 'fify', 'fill', 'find', 'fire', 'first', 'five', 'for',\n",
    "             'former', 'formerly', 'forty', 'found', 'four', 'from', 'front', 'full', 'further', 'get', 'give', 'go', 'had',\n",
    "             'has', 'hasnt', 'have', 'having', 'he', 'hence', 'her', 'here', 'hereafter', 'hereby', 'herein', 'hereupon',\n",
    "             'hers', 'herself', 'him', 'himself', 'his', 'how', 'however', 'hundred', 'i', 'ie', 'if', 'in', 'inc', 'indeed',\n",
    "             'interest', 'into', 'is', 'it', 'its', 'itself', 'just', 'keep', 'last', 'latter', 'latterly', 'least', 'less',\n",
    "             'ltd', 'made', 'many', 'may', 'me', 'meanwhile', 'might', 'mill', 'mine', 'more', 'moreover', 'most', 'mostly',\n",
    "             'move', 'much', 'must', 'my', 'myself', 'name', 'namely', 'neither', 'never', 'nevertheless', 'next', 'nine',\n",
    "             'no', 'nobody', 'none', 'noone', 'nor', 'not', 'nothing', 'now', 'nowhere', 'of', 'off', 'often', 'on', 'once',\n",
    "             'one', 'only', 'onto', 'or', 'other', 'others', 'otherwise', 'our', 'ours', 'ourselves', 'out', 'over', 'own',\n",
    "             'part', 'per', 'perhaps', 'please', 'put', 'rather', 're', 's', 'same', 'see', 'seem', 'seemed', 'seeming',\n",
    "             'seems', 'serious', 'several', 'she', 'should', 'show', 'side', 'since', 'sincere', 'six', 'sixty', 'so', \n",
    "             'some', 'somehow', 'someone', 'something', 'sometime', 'sometimes', 'somewhere', 'still', 'such', 'system',\n",
    "             't', 'take', 'ten', 'than', 'that', 'the', 'their', 'theirs', 'them', 'themselves', 'then', 'thence', 'there',\n",
    "             'thereafter', 'thereby', 'therefore', 'therein', 'thereupon', 'these', 'they', 'thickv', 'thin', 'third', 'this',\n",
    "             'those', 'though', 'three', 'through', 'throughout', 'thru', 'thus', 'to', 'together', 'too', 'top', 'toward',\n",
    "             'towards', 'twelve', 'twenty', 'two', 'un', 'under', 'until', 'up', 'upon', 'us', 'very', 'via', 'was', 'we',\n",
    "             'well', 'were', 'what', 'whatever', 'when', 'whence', 'whenever', 'where', 'whereafter', 'whereas', 'whereby',\n",
    "             'wherein', 'whereupon', 'wherever', 'whether', 'which', 'while', 'whither', 'who', 'whoever', 'whole', 'whom',\n",
    "             'whose', 'why', 'will', 'with', 'within', 'without', 'would', 'yet', 'you', 'your', 'yours', 'yourself',\n",
    "             'yourselves','click','nineteen','said'\n",
    "       ]\n",
    "\n",
    "stop_words = stopwords.words('english')\n",
    "stop_words.extend(stop)\n",
    "stop = set(stop_words)"
   ]
  },
  {
   "cell_type": "code",
   "execution_count": 21,
   "metadata": {},
   "outputs": [],
   "source": [
    "# Function to remove all the stop words present in the data\n",
    "def clean(data):\n",
    "    stop_free = \" \".join([i for i in data.lower().split() if i not in stop])\n",
    "    return stop_free"
   ]
  },
  {
   "cell_type": "code",
   "execution_count": 22,
   "metadata": {},
   "outputs": [],
   "source": [
    "# Data Preprocessing on the newly created data having no stop word\n",
    "new_list_removed_stopwords = []\n",
    "for data in fullText:\n",
    "    data = remove_apostrophe(data)\n",
    "    data = remove_punctuation(data)\n",
    "    data = convert_numbers(data)\n",
    "    data = clean(data)\n",
    "    \n",
    "    new_list_removed_stopwords.append(data)"
   ]
  },
  {
   "cell_type": "code",
   "execution_count": 23,
   "metadata": {},
   "outputs": [],
   "source": [
    "#Two List are created\n",
    "\n",
    "Text_stemmed_removed_stopwords = [] #Contains Stemmed words having no stopwords\n",
    "Text_tokenized_removed_stopword = [] #Contains Tokenized Words having no stopwords\n",
    "for i in new_list_removed_stopwords:\n",
    "    allwords_stemmed = tokenize_and_stem(i) #for each item in 'fullText', tokenize/stem\n",
    "    Text_stemmed_removed_stopwords.extend(allwords_stemmed) #extend the 'Text_stemmed' list\n",
    "    \n",
    "    allwords_tokenized = tokenize_only(i)\n",
    "    Text_tokenized_removed_stopword.extend(allwords_tokenized)"
   ]
  },
  {
   "cell_type": "code",
   "execution_count": 24,
   "metadata": {
    "scrolled": false
   },
   "outputs": [],
   "source": [
    "Words_nostop = pd.DataFrame(Text_stemmed_removed_stopwords,columns=['Words'])  #Converted Stemmed List into a Dataframe"
   ]
  },
  {
   "cell_type": "code",
   "execution_count": 25,
   "metadata": {},
   "outputs": [
    {
     "data": {
      "text/plain": [
       "man        372\n",
       "like       328\n",
       "day        275\n",
       "men        249\n",
       "hous       241\n",
       "          ... \n",
       "discret      1\n",
       "disgorg      1\n",
       "pillow       1\n",
       "chant        1\n",
       "slower       1\n",
       "Name: Words, Length: 7077, dtype: int64"
      ]
     },
     "execution_count": 25,
     "metadata": {},
     "output_type": "execute_result"
    }
   ],
   "source": [
    "Words_nostop['Words'].value_counts() #Count of Words"
   ]
  },
  {
   "cell_type": "code",
   "execution_count": 26,
   "metadata": {},
   "outputs": [
    {
     "data": {
      "text/html": [
       "<div>\n",
       "<style scoped>\n",
       "    .dataframe tbody tr th:only-of-type {\n",
       "        vertical-align: middle;\n",
       "    }\n",
       "\n",
       "    .dataframe tbody tr th {\n",
       "        vertical-align: top;\n",
       "    }\n",
       "\n",
       "    .dataframe thead th {\n",
       "        text-align: right;\n",
       "    }\n",
       "</style>\n",
       "<table border=\"1\" class=\"dataframe\">\n",
       "  <thead>\n",
       "    <tr style=\"text-align: right;\">\n",
       "      <th></th>\n",
       "      <th>Words</th>\n",
       "      <th>Counts</th>\n",
       "    </tr>\n",
       "  </thead>\n",
       "  <tbody>\n",
       "    <tr>\n",
       "      <th>0</th>\n",
       "      <td>man</td>\n",
       "      <td>372</td>\n",
       "    </tr>\n",
       "    <tr>\n",
       "      <th>1</th>\n",
       "      <td>like</td>\n",
       "      <td>328</td>\n",
       "    </tr>\n",
       "    <tr>\n",
       "      <th>2</th>\n",
       "      <td>day</td>\n",
       "      <td>275</td>\n",
       "    </tr>\n",
       "    <tr>\n",
       "      <th>3</th>\n",
       "      <td>men</td>\n",
       "      <td>249</td>\n",
       "    </tr>\n",
       "    <tr>\n",
       "      <th>4</th>\n",
       "      <td>hous</td>\n",
       "      <td>241</td>\n",
       "    </tr>\n",
       "    <tr>\n",
       "      <th>5</th>\n",
       "      <td>live</td>\n",
       "      <td>238</td>\n",
       "    </tr>\n",
       "    <tr>\n",
       "      <th>6</th>\n",
       "      <td>wood</td>\n",
       "      <td>232</td>\n",
       "    </tr>\n",
       "    <tr>\n",
       "      <th>7</th>\n",
       "      <td>pond</td>\n",
       "      <td>226</td>\n",
       "    </tr>\n",
       "    <tr>\n",
       "      <th>8</th>\n",
       "      <td>time</td>\n",
       "      <td>209</td>\n",
       "    </tr>\n",
       "    <tr>\n",
       "      <th>9</th>\n",
       "      <td>life</td>\n",
       "      <td>204</td>\n",
       "    </tr>\n",
       "  </tbody>\n",
       "</table>\n",
       "</div>"
      ],
      "text/plain": [
       "  Words  Counts\n",
       "0   man     372\n",
       "1  like     328\n",
       "2   day     275\n",
       "3   men     249\n",
       "4  hous     241\n",
       "5  live     238\n",
       "6  wood     232\n",
       "7  pond     226\n",
       "8  time     209\n",
       "9  life     204"
      ]
     },
     "execution_count": 26,
     "metadata": {},
     "output_type": "execute_result"
    }
   ],
   "source": [
    "#Created New Columns \"Counts\" which stores Count of all the words\n",
    "Counts_new = pd.DataFrame(Words_nostop['Words'].value_counts())\n",
    "Counts_new = Counts_new.reset_index()\n",
    "Counts_new = Counts_new.rename(columns={\"index\": \"Words\", \"Words\": \"Counts\"})\n",
    "Counts_new.head(10)"
   ]
  },
  {
   "cell_type": "code",
   "execution_count": 27,
   "metadata": {},
   "outputs": [],
   "source": [
    "tagged = nltk.pos_tag(Counts_new['Words'])"
   ]
  },
  {
   "cell_type": "code",
   "execution_count": 28,
   "metadata": {},
   "outputs": [],
   "source": [
    "tags = [obj[1] for obj in tagged]"
   ]
  },
  {
   "cell_type": "code",
   "execution_count": 29,
   "metadata": {},
   "outputs": [],
   "source": [
    "Counts_new['Tags'] = tags"
   ]
  },
  {
   "cell_type": "code",
   "execution_count": 30,
   "metadata": {},
   "outputs": [
    {
     "data": {
      "text/html": [
       "<div>\n",
       "<style scoped>\n",
       "    .dataframe tbody tr th:only-of-type {\n",
       "        vertical-align: middle;\n",
       "    }\n",
       "\n",
       "    .dataframe tbody tr th {\n",
       "        vertical-align: top;\n",
       "    }\n",
       "\n",
       "    .dataframe thead th {\n",
       "        text-align: right;\n",
       "    }\n",
       "</style>\n",
       "<table border=\"1\" class=\"dataframe\">\n",
       "  <thead>\n",
       "    <tr style=\"text-align: right;\">\n",
       "      <th></th>\n",
       "      <th>Words</th>\n",
       "      <th>Counts</th>\n",
       "      <th>Tags</th>\n",
       "    </tr>\n",
       "  </thead>\n",
       "  <tbody>\n",
       "    <tr>\n",
       "      <th>0</th>\n",
       "      <td>man</td>\n",
       "      <td>372</td>\n",
       "      <td>NN</td>\n",
       "    </tr>\n",
       "    <tr>\n",
       "      <th>1</th>\n",
       "      <td>like</td>\n",
       "      <td>328</td>\n",
       "      <td>IN</td>\n",
       "    </tr>\n",
       "    <tr>\n",
       "      <th>2</th>\n",
       "      <td>day</td>\n",
       "      <td>275</td>\n",
       "      <td>NN</td>\n",
       "    </tr>\n",
       "    <tr>\n",
       "      <th>3</th>\n",
       "      <td>men</td>\n",
       "      <td>249</td>\n",
       "      <td>NNS</td>\n",
       "    </tr>\n",
       "    <tr>\n",
       "      <th>4</th>\n",
       "      <td>hous</td>\n",
       "      <td>241</td>\n",
       "      <td>JJ</td>\n",
       "    </tr>\n",
       "  </tbody>\n",
       "</table>\n",
       "</div>"
      ],
      "text/plain": [
       "  Words  Counts Tags\n",
       "0   man     372   NN\n",
       "1  like     328   IN\n",
       "2   day     275   NN\n",
       "3   men     249  NNS\n",
       "4  hous     241   JJ"
      ]
     },
     "execution_count": 30,
     "metadata": {},
     "output_type": "execute_result"
    }
   ],
   "source": [
    "Counts_new.head(5)"
   ]
  },
  {
   "cell_type": "code",
   "execution_count": 31,
   "metadata": {},
   "outputs": [],
   "source": [
    "from nltk.corpus import wordnet"
   ]
  },
  {
   "cell_type": "code",
   "execution_count": 32,
   "metadata": {},
   "outputs": [],
   "source": [
    "word_list = []\n",
    "word_type = []\n",
    "word_type_2 = []\n",
    "for word in Text_tokenized_removed_stopword:\n",
    "    syns = wordnet.synsets(word)\n",
    "    word_list.append(word)\n",
    "    if(syns):\n",
    "        word_type.append(syns[0].lexname().split('.')[0])\n",
    "        word_type_2.append(syns[0].lexname())\n",
    "\n",
    "    else:\n",
    "        word_type.append('None')\n",
    "        word_type_2.append('None')\n",
    "\n",
    "    #print(word, syns[0].lexname().split('.')[0]) if syns else (word, None)"
   ]
  },
  {
   "cell_type": "code",
   "execution_count": 33,
   "metadata": {},
   "outputs": [],
   "source": [
    "WORD_TYPES = pd.DataFrame(word_list,columns=['Words'])\n",
    "WORD_TYPES['Type'] =  word_type\n",
    "WORD_TYPES['Type_Detail'] =  word_type_2\n",
    "\n",
    "tagged = nltk.pos_tag(WORD_TYPES['Words'])\n",
    "WORD_TYPES['Pos_Tag'] = [obj[1] for obj in tagged]\n",
    "#WORD_TYPES = WORD_TYPES.rename(columns={\"index\": \"Words\", \"Words\": \"Counts\"})\n",
    "#Counts_new.head(10)"
   ]
  },
  {
   "cell_type": "code",
   "execution_count": 34,
   "metadata": {},
   "outputs": [],
   "source": [
    "Noun_Verb = WORD_TYPES[(WORD_TYPES['Type']== \"verb\") | (WORD_TYPES['Type']== \"noun\") ]"
   ]
  },
  {
   "cell_type": "code",
   "execution_count": 35,
   "metadata": {},
   "outputs": [],
   "source": [
    "Noun_Verb.reset_index(drop=True,inplace=True)"
   ]
  },
  {
   "cell_type": "code",
   "execution_count": 36,
   "metadata": {},
   "outputs": [
    {
     "data": {
      "text/html": [
       "<div>\n",
       "<style scoped>\n",
       "    .dataframe tbody tr th:only-of-type {\n",
       "        vertical-align: middle;\n",
       "    }\n",
       "\n",
       "    .dataframe tbody tr th {\n",
       "        vertical-align: top;\n",
       "    }\n",
       "\n",
       "    .dataframe thead th {\n",
       "        text-align: right;\n",
       "    }\n",
       "</style>\n",
       "<table border=\"1\" class=\"dataframe\">\n",
       "  <thead>\n",
       "    <tr style=\"text-align: right;\">\n",
       "      <th></th>\n",
       "      <th>Words</th>\n",
       "      <th>Type</th>\n",
       "      <th>Type_Detail</th>\n",
       "      <th>Pos_Tag</th>\n",
       "    </tr>\n",
       "  </thead>\n",
       "  <tbody>\n",
       "    <tr>\n",
       "      <th>0</th>\n",
       "      <td>economy</td>\n",
       "      <td>noun</td>\n",
       "      <td>noun.group</td>\n",
       "      <td>NN</td>\n",
       "    </tr>\n",
       "    <tr>\n",
       "      <th>1</th>\n",
       "      <td>wrote</td>\n",
       "      <td>verb</td>\n",
       "      <td>verb.creation</td>\n",
       "      <td>VBD</td>\n",
       "    </tr>\n",
       "    <tr>\n",
       "      <th>2</th>\n",
       "      <td>following</td>\n",
       "      <td>noun</td>\n",
       "      <td>noun.group</td>\n",
       "      <td>VBG</td>\n",
       "    </tr>\n",
       "    <tr>\n",
       "      <th>3</th>\n",
       "      <td>pages</td>\n",
       "      <td>noun</td>\n",
       "      <td>noun.communication</td>\n",
       "      <td>NNS</td>\n",
       "    </tr>\n",
       "    <tr>\n",
       "      <th>4</th>\n",
       "      <td>bulk</td>\n",
       "      <td>noun</td>\n",
       "      <td>noun.attribute</td>\n",
       "      <td>VBP</td>\n",
       "    </tr>\n",
       "    <tr>\n",
       "      <th>5</th>\n",
       "      <td>lived</td>\n",
       "      <td>verb</td>\n",
       "      <td>verb.stative</td>\n",
       "      <td>VBN</td>\n",
       "    </tr>\n",
       "    <tr>\n",
       "      <th>6</th>\n",
       "      <td>woods</td>\n",
       "      <td>noun</td>\n",
       "      <td>noun.group</td>\n",
       "      <td>NNS</td>\n",
       "    </tr>\n",
       "    <tr>\n",
       "      <th>7</th>\n",
       "      <td>mile</td>\n",
       "      <td>noun</td>\n",
       "      <td>noun.quantity</td>\n",
       "      <td>IN</td>\n",
       "    </tr>\n",
       "    <tr>\n",
       "      <th>8</th>\n",
       "      <td>neighbor</td>\n",
       "      <td>noun</td>\n",
       "      <td>noun.person</td>\n",
       "      <td>NN</td>\n",
       "    </tr>\n",
       "    <tr>\n",
       "      <th>9</th>\n",
       "      <td>house</td>\n",
       "      <td>noun</td>\n",
       "      <td>noun.artifact</td>\n",
       "      <td>NN</td>\n",
       "    </tr>\n",
       "  </tbody>\n",
       "</table>\n",
       "</div>"
      ],
      "text/plain": [
       "       Words  Type         Type_Detail Pos_Tag\n",
       "0    economy  noun          noun.group      NN\n",
       "1      wrote  verb       verb.creation     VBD\n",
       "2  following  noun          noun.group     VBG\n",
       "3      pages  noun  noun.communication     NNS\n",
       "4       bulk  noun      noun.attribute     VBP\n",
       "5      lived  verb        verb.stative     VBN\n",
       "6      woods  noun          noun.group     NNS\n",
       "7       mile  noun       noun.quantity      IN\n",
       "8   neighbor  noun         noun.person      NN\n",
       "9      house  noun       noun.artifact      NN"
      ]
     },
     "execution_count": 36,
     "metadata": {},
     "output_type": "execute_result"
    }
   ],
   "source": [
    "Noun_Verb.head(10)"
   ]
  },
  {
   "cell_type": "code",
   "execution_count": 37,
   "metadata": {},
   "outputs": [
    {
     "data": {
      "text/plain": [
       "array(['noun.group', 'noun.communication', 'noun.attribute',\n",
       "       'noun.quantity', 'noun.person', 'noun.artifact', 'noun.object',\n",
       "       'noun.location', 'noun.cognition', 'noun.act', 'noun.time',\n",
       "       'noun.state', 'noun.relation', 'noun.possession', 'noun.Tops',\n",
       "       'noun.plant', 'noun.food', 'noun.feeling', 'noun.event',\n",
       "       'noun.body', 'noun.process', 'noun.substance', 'noun.animal',\n",
       "       'noun.shape', 'noun.phenomenon', 'noun.motive'], dtype=object)"
      ]
     },
     "execution_count": 37,
     "metadata": {},
     "output_type": "execute_result"
    }
   ],
   "source": [
    "Noun_Verb[Noun_Verb['Type']=='noun']['Type_Detail'].unique()"
   ]
  },
  {
   "cell_type": "code",
   "execution_count": 38,
   "metadata": {},
   "outputs": [
    {
     "data": {
      "text/plain": [
       "array(['verb.creation', 'verb.stative', 'verb.possession', 'verb.social',\n",
       "       'verb.motion', 'verb.perception', 'verb.cognition',\n",
       "       'verb.communication', 'verb.consumption', 'verb.change',\n",
       "       'verb.contact', 'verb.body', 'verb.emotion', 'verb.competition',\n",
       "       'verb.weather'], dtype=object)"
      ]
     },
     "execution_count": 38,
     "metadata": {},
     "output_type": "execute_result"
    }
   ],
   "source": [
    "Noun_Verb[Noun_Verb['Type']=='verb']['Type_Detail'].unique()"
   ]
  },
  {
   "cell_type": "code",
   "execution_count": 39,
   "metadata": {},
   "outputs": [
    {
     "data": {
      "image/png": "[encoded data removed]",
      "text/plain": [
       "<Figure size 648x648 with 1 Axes>"
      ]
     },
     "metadata": {
      "needs_background": "light"
     },
     "output_type": "display_data"
    }
   ],
   "source": [
    "font = {'family': 'serif',\n",
    "        'color':  'darkred',\n",
    "        'weight': 'normal',\n",
    "        'size': 14,\n",
    "        }\n",
    "\n",
    "\n",
    "plt.figure(figsize=(9,9))\n",
    "ax = sns.countplot(x=\"Type_Detail\", data=Noun_Verb[Noun_Verb['Type']=='verb'])\n",
    "ax.set_xticklabels(ax.get_xticklabels(), rotation=40, ha=\"right\",fontdict=font)\n",
    "plt.tight_layout()\n",
    "plt.xlabel('Verb Categories',fontdict={'size':14})\n",
    "plt.ylabel('Counts',fontdict={'size':14})\n",
    "plt.title('Count Plot of Verb Types')\n",
    "\n",
    "plt.show()\n"
   ]
  },
  {
   "cell_type": "code",
   "execution_count": 40,
   "metadata": {},
   "outputs": [
    {
     "data": {
      "image/png": "[encoded data removed]",
      "text/plain": [
       "<Figure size 648x648 with 1 Axes>"
      ]
     },
     "metadata": {
      "needs_background": "light"
     },
     "output_type": "display_data"
    }
   ],
   "source": [
    "font = {'family': 'serif',\n",
    "        'color':  'darkblue',\n",
    "        'weight': 'normal',\n",
    "        'size': 14,\n",
    "        }\n",
    "\n",
    "\n",
    "plt.figure(figsize=(9,9))\n",
    "ax = sns.countplot(x=\"Type_Detail\", data=Noun_Verb[Noun_Verb['Type']=='noun'])\n",
    "ax.set_xticklabels(ax.get_xticklabels(), rotation=40, ha=\"right\",fontdict=font)\n",
    "plt.tight_layout()\n",
    "plt.xlabel('Noun Categories',fontdict={'size':14})\n",
    "plt.ylabel('Counts',fontdict={'size':14})\n",
    "plt.title('Count Plot of Noun Types')\n",
    "plt.show()\n"
   ]
  },
  {
   "cell_type": "code",
   "execution_count": 41,
   "metadata": {},
   "outputs": [
    {
     "data": {
      "text/plain": [
       "noun.person           3540\n",
       "noun.artifact         3075\n",
       "noun.act              2576\n",
       "noun.cognition        2500\n",
       "noun.attribute        2229\n",
       "noun.group            2062\n",
       "noun.time             1962\n",
       "noun.communication    1806\n",
       "noun.object           1715\n",
       "noun.state            1660\n",
       "noun.location         1505\n",
       "noun.substance        1131\n",
       "noun.plant             924\n",
       "noun.quantity          906\n",
       "noun.event             899\n",
       "noun.body              896\n",
       "verb.motion            896\n",
       "noun.animal            869\n",
       "verb.communication     856\n",
       "verb.stative           790\n",
       "verb.change            706\n",
       "verb.perception        690\n",
       "verb.cognition         683\n",
       "verb.contact           668\n",
       "verb.social            627\n",
       "noun.possession        618\n",
       "noun.food              574\n",
       "noun.phenomenon        547\n",
       "verb.possession        465\n",
       "verb.emotion           452\n",
       "noun.feeling           382\n",
       "verb.creation          307\n",
       "noun.Tops              245\n",
       "noun.relation          219\n",
       "noun.shape             176\n",
       "verb.body              166\n",
       "verb.consumption       153\n",
       "noun.process           124\n",
       "verb.competition        68\n",
       "noun.motive             39\n",
       "verb.weather            16\n",
       "Name: Type_Detail, dtype: int64"
      ]
     },
     "execution_count": 41,
     "metadata": {},
     "output_type": "execute_result"
    }
   ],
   "source": [
    "Noun_Verb['Type_Detail'].value_counts()"
   ]
  },
  {
   "cell_type": "code",
   "execution_count": 42,
   "metadata": {},
   "outputs": [],
   "source": [
    "def pre_process(data):\n",
    "    data = tokenize_only(data)\n",
    "    data = nltk.pos_tag(data)\n",
    "    return data"
   ]
  },
  {
   "cell_type": "code",
   "execution_count": 43,
   "metadata": {},
   "outputs": [
    {
     "data": {
      "text/plain": [
       "['',\n",
       " ' Economy',\n",
       " '',\n",
       " ' When I wrote the following pages or rather the bulk of them I lived',\n",
       " ' alone in the woods a mile from any neighbor in a house which I had']"
      ]
     },
     "execution_count": 43,
     "metadata": {},
     "output_type": "execute_result"
    }
   ],
   "source": [
    "new_list_2[:5]"
   ]
  },
  {
   "cell_type": "code",
   "execution_count": null,
   "metadata": {},
   "outputs": [],
   "source": []
  },
  {
   "cell_type": "code",
   "execution_count": 44,
   "metadata": {},
   "outputs": [],
   "source": [
    "pos_tagged_list = []\n",
    "for item in documents:\n",
    "    pos_tagged_list.append(pre_process(item))"
   ]
  },
  {
   "cell_type": "code",
   "execution_count": 45,
   "metadata": {},
   "outputs": [
    {
     "data": {
      "text/plain": [
       "[[('economy', 'NN')],\n",
       " [('when', 'WRB'),\n",
       "  ('i', 'JJ'),\n",
       "  ('wrote', 'VBD'),\n",
       "  ('the', 'DT'),\n",
       "  ('following', 'JJ'),\n",
       "  ('pages', 'NNS'),\n",
       "  ('or', 'CC'),\n",
       "  ('rather', 'RB'),\n",
       "  ('the', 'DT'),\n",
       "  ('bulk', 'NN'),\n",
       "  ('of', 'IN'),\n",
       "  ('them', 'PRP'),\n",
       "  ('i', 'VBP'),\n",
       "  ('lived', 'VBD')]]"
      ]
     },
     "execution_count": 45,
     "metadata": {},
     "output_type": "execute_result"
    }
   ],
   "source": [
    "pos_tagged_list[:2]"
   ]
  },
  {
   "cell_type": "code",
   "execution_count": 46,
   "metadata": {},
   "outputs": [],
   "source": [
    "pattern = 'NP: {<DT>?<JJ>*<NN>}'"
   ]
  },
  {
   "cell_type": "code",
   "execution_count": null,
   "metadata": {},
   "outputs": [],
   "source": []
  },
  {
   "cell_type": "code",
   "execution_count": 47,
   "metadata": {},
   "outputs": [
    {
     "name": "stdout",
     "output_type": "stream",
     "text": [
      "Warning: parsing empty text\n",
      "Warning: parsing empty text\n",
      "Warning: parsing empty text\n",
      "Warning: parsing empty text\n",
      "Warning: parsing empty text\n"
     ]
    }
   ],
   "source": [
    "parser = nltk.RegexpParser(pattern)\n",
    "parsed = []\n",
    "for item in pos_tagged_list:\n",
    "    par = parser.parse(item)\n",
    "    parsed.append(par)"
   ]
  },
  {
   "cell_type": "code",
   "execution_count": 48,
   "metadata": {},
   "outputs": [
    {
     "name": "stdout",
     "output_type": "stream",
     "text": [
      "(S\n",
      "  when/WRB\n",
      "  i/JJ\n",
      "  wrote/VBD\n",
      "  the/DT\n",
      "  following/JJ\n",
      "  pages/NNS\n",
      "  or/CC\n",
      "  rather/RB\n",
      "  (NP the/DT bulk/NN)\n",
      "  of/IN\n",
      "  them/PRP\n",
      "  i/VBP\n",
      "  lived/VBD)\n"
     ]
    }
   ],
   "source": [
    "print(parser.parse(pos_tagged_list[1]))"
   ]
  },
  {
   "cell_type": "code",
   "execution_count": 49,
   "metadata": {},
   "outputs": [
    {
     "data": {
      "image/png": "[encoded data removed]",
      "text/plain": [
       "Tree('S', [('when', 'WRB'), ('i', 'JJ'), ('wrote', 'VBD'), ('the', 'DT'), ('following', 'JJ'), ('pages', 'NNS'), ('or', 'CC'), ('rather', 'RB'), Tree('NP', [('the', 'DT'), ('bulk', 'NN')]), ('of', 'IN'), ('them', 'PRP'), ('i', 'VBP'), ('lived', 'VBD')])"
      ]
     },
     "execution_count": 49,
     "metadata": {},
     "output_type": "execute_result"
    }
   ],
   "source": [
    "parser.parse(pos_tagged_list[1])"
   ]
  },
  {
   "cell_type": "code",
   "execution_count": 50,
   "metadata": {},
   "outputs": [
    {
     "data": {
      "image/png": "[encoded data removed]",
      "text/plain": [
       "Tree('S', [('very', 'RB'), ('particular', 'JJ'), ('inquiries', 'NNS'), ('had', 'VBD'), ('not', 'RB'), ('been', 'VBN'), ('made', 'VBN'), ('by', 'IN'), ('my', 'PRP$'), ('townsmen', 'NNS'), ('concerning', 'VBG')])"
      ]
     },
     "execution_count": 50,
     "metadata": {},
     "output_type": "execute_result"
    }
   ],
   "source": [
    "parser.parse(pos_tagged_list[8])"
   ]
  },
  {
   "cell_type": "code",
   "execution_count": 63,
   "metadata": {},
   "outputs": [
    {
     "data": {
      "text/plain": [
       "[Tree('S', [Tree('NP', [('economy', 'NN')])]),\n",
       " Tree('S', [('when', 'WRB'), ('i', 'JJ'), ('wrote', 'VBD'), ('the', 'DT'), ('following', 'JJ'), ('pages', 'NNS'), ('or', 'CC'), ('rather', 'RB'), Tree('NP', [('the', 'DT'), ('bulk', 'NN')]), ('of', 'IN'), ('them', 'PRP'), ('i', 'VBP'), ('lived', 'VBD')]),\n",
       " Tree('S', [('alone', 'RB'), ('in', 'IN'), ('the', 'DT'), ('woods', 'NNS'), Tree('NP', [('a', 'DT'), ('mile', 'NN')]), ('from', 'IN'), Tree('NP', [('any', 'DT'), ('neighbor', 'NN')]), ('in', 'IN'), Tree('NP', [('a', 'DT'), ('house', 'NN')]), ('which', 'WDT'), Tree('NP', [('i', 'NN')]), ('had', 'VBD')]),\n",
       " Tree('S', [('built', 'VBN'), ('myself', 'PRP'), ('on', 'IN'), Tree('NP', [('the', 'DT'), ('shore', 'NN')]), ('of', 'IN'), Tree('NP', [('walden', 'JJ'), ('pond', 'NN')]), ('in', 'IN'), Tree('NP', [('concord', 'NN')]), Tree('NP', [('massachusetts', 'NN')])]),\n",
       " Tree('S', [('and', 'CC'), ('earned', 'VBD'), ('my', 'PRP$'), Tree('NP', [('living', 'NN')]), ('by', 'IN'), Tree('NP', [('the', 'DT'), ('labor', 'NN')]), ('of', 'IN'), ('my', 'PRP$'), ('hands', 'NNS'), ('only', 'RB'), ('i', 'VBP'), ('lived', 'VBN'), ('there', 'RB'), ('two', 'CD')])]"
      ]
     },
     "execution_count": 63,
     "metadata": {},
     "output_type": "execute_result"
    }
   ],
   "source": [
    "parsed[:5]"
   ]
  },
  {
   "cell_type": "code",
   "execution_count": 52,
   "metadata": {},
   "outputs": [],
   "source": [
    "from nltk.chunk import conlltags2tree, tree2conlltags\n",
    "from pprint import pprint\n"
   ]
  },
  {
   "cell_type": "code",
   "execution_count": 53,
   "metadata": {},
   "outputs": [],
   "source": [
    "IOB_tagged_list = []\n",
    "for item in parsed:\n",
    "    iob_tagged = tree2conlltags(item)\n",
    "    IOB_tagged_list.append(iob_tagged)"
   ]
  },
  {
   "cell_type": "code",
   "execution_count": 54,
   "metadata": {},
   "outputs": [
    {
     "data": {
      "text/plain": [
       "[('when', 'WRB', 'O'),\n",
       " ('i', 'JJ', 'O'),\n",
       " ('wrote', 'VBD', 'O'),\n",
       " ('the', 'DT', 'O'),\n",
       " ('following', 'JJ', 'O'),\n",
       " ('pages', 'NNS', 'O'),\n",
       " ('or', 'CC', 'O'),\n",
       " ('rather', 'RB', 'O'),\n",
       " ('the', 'DT', 'B-NP'),\n",
       " ('bulk', 'NN', 'I-NP'),\n",
       " ('of', 'IN', 'O'),\n",
       " ('them', 'PRP', 'O'),\n",
       " ('i', 'VBP', 'O'),\n",
       " ('lived', 'VBD', 'O')]"
      ]
     },
     "execution_count": 54,
     "metadata": {},
     "output_type": "execute_result"
    }
   ],
   "source": [
    "IOB_tagged_list[1]"
   ]
  },
  {
   "cell_type": "code",
   "execution_count": 55,
   "metadata": {},
   "outputs": [],
   "source": [
    "import spacy\n",
    "nlp = spacy.load('en_core_web_sm')\n"
   ]
  },
  {
   "cell_type": "code",
   "execution_count": 56,
   "metadata": {},
   "outputs": [],
   "source": [
    "#import spacy\n",
    "#from spacy import displacy\n",
    "#rom collections import Counter\n",
    "#import en_core_web_sm\n",
    "#nlp = en_core_web_sm.load()"
   ]
  },
  {
   "cell_type": "code",
   "execution_count": 57,
   "metadata": {},
   "outputs": [
    {
     "name": "stdout",
     "output_type": "stream",
     "text": [
      "(Walden Pond, Concord, Massachusetts)\n"
     ]
    }
   ],
   "source": [
    "example = new_list_2[5]\n",
    "### example = 'built myself on the shore of Walden Pond in Concord Massachusetts'\n",
    "eg = nlp(example)\n",
    "print(eg.ents)"
   ]
  },
  {
   "cell_type": "code",
   "execution_count": 58,
   "metadata": {},
   "outputs": [
    {
     "name": "stdout",
     "output_type": "stream",
     "text": [
      "Walden Pond - GPE - Countries, cities, states\n",
      "Concord - GPE - Countries, cities, states\n",
      "Massachusetts - GPE - Countries, cities, states\n"
     ]
    }
   ],
   "source": [
    "for entity in eg.ents:\n",
    "    print(entity.text + ' - ' + entity.label_ + ' - ' + str(spacy.explain(entity.label_)))"
   ]
  },
  {
   "cell_type": "code",
   "execution_count": 59,
   "metadata": {},
   "outputs": [],
   "source": [
    "entities_list = []\n",
    "\n",
    "for item in new_list_2:\n",
    "    if(len(item)>0):\n",
    "        entities = nlp(item)\n",
    "        for entity in entities.ents:\n",
    "            entity_text = entity.text\n",
    "            entity_label = entity.label_\n",
    "            entity_label_description = str(spacy.explain(entity.label_))\n",
    "            entities_list.append((item,entity_text,entity_label,entity_label_description))\n",
    "            \n",
    "                                           "
   ]
  },
  {
   "cell_type": "code",
   "execution_count": 60,
   "metadata": {},
   "outputs": [],
   "source": [
    "Entities_List = pd.DataFrame(entities_list,columns=['item','entity_text','entity_label','entity_label_description'])\n"
   ]
  },
  {
   "cell_type": "code",
   "execution_count": 61,
   "metadata": {},
   "outputs": [],
   "source": [
    "pd.set_option('display.max_rows', 0)\n",
    "#pd.set_option('display.max_columns', 1000)\n",
    "#pd.set_option('display.width', 1500)\n",
    "pd.options.display.max_colwidth = 100\n"
   ]
  },
  {
   "cell_type": "code",
   "execution_count": 62,
   "metadata": {},
   "outputs": [
    {
     "data": {
      "text/html": [
       "<div>\n",
       "<style scoped>\n",
       "    .dataframe tbody tr th:only-of-type {\n",
       "        vertical-align: middle;\n",
       "    }\n",
       "\n",
       "    .dataframe tbody tr th {\n",
       "        vertical-align: top;\n",
       "    }\n",
       "\n",
       "    .dataframe thead th {\n",
       "        text-align: right;\n",
       "    }\n",
       "</style>\n",
       "<table border=\"1\" class=\"dataframe\">\n",
       "  <thead>\n",
       "    <tr style=\"text-align: right;\">\n",
       "      <th></th>\n",
       "      <th>item</th>\n",
       "      <th>entity_text</th>\n",
       "      <th>entity_label</th>\n",
       "      <th>entity_label_description</th>\n",
       "    </tr>\n",
       "  </thead>\n",
       "  <tbody>\n",
       "    <tr>\n",
       "      <th>0</th>\n",
       "      <td>alone in the woods a mile from any neighbor in a house which I had</td>\n",
       "      <td>a mile</td>\n",
       "      <td>QUANTITY</td>\n",
       "      <td>Measurements, as of weight or distance</td>\n",
       "    </tr>\n",
       "    <tr>\n",
       "      <th>1</th>\n",
       "      <td>built myself on the shore of Walden Pond in Concord Massachusetts</td>\n",
       "      <td>Walden Pond</td>\n",
       "      <td>GPE</td>\n",
       "      <td>Countries, cities, states</td>\n",
       "    </tr>\n",
       "    <tr>\n",
       "      <th>2</th>\n",
       "      <td>built myself on the shore of Walden Pond in Concord Massachusetts</td>\n",
       "      <td>Concord</td>\n",
       "      <td>GPE</td>\n",
       "      <td>Countries, cities, states</td>\n",
       "    </tr>\n",
       "    <tr>\n",
       "      <th>3</th>\n",
       "      <td>built myself on the shore of Walden Pond in Concord Massachusetts</td>\n",
       "      <td>Massachusetts</td>\n",
       "      <td>GPE</td>\n",
       "      <td>Countries, cities, states</td>\n",
       "    </tr>\n",
       "    <tr>\n",
       "      <th>4</th>\n",
       "      <td>and earned my living by the labor of my hands only I lived there two</td>\n",
       "      <td>two</td>\n",
       "      <td>CARDINAL</td>\n",
       "      <td>Numerals that do not fall under another type</td>\n",
       "    </tr>\n",
       "    <tr>\n",
       "      <th>5</th>\n",
       "      <td>years and two months At present I am a sojourner in civilized life</td>\n",
       "      <td>two months</td>\n",
       "      <td>DATE</td>\n",
       "      <td>Absolute or relative dates or periods</td>\n",
       "    </tr>\n",
       "    <tr>\n",
       "      <th>6</th>\n",
       "      <td>these questions in this book In most books the I or first person</td>\n",
       "      <td>first</td>\n",
       "      <td>ORDINAL</td>\n",
       "      <td>\"first\", \"second\", etc.</td>\n",
       "    </tr>\n",
       "    <tr>\n",
       "      <th>7</th>\n",
       "      <td>all always the first person that is speaking I should not talk so</td>\n",
       "      <td>first</td>\n",
       "      <td>ORDINAL</td>\n",
       "      <td>\"first\", \"second\", etc.</td>\n",
       "    </tr>\n",
       "    <tr>\n",
       "      <th>8</th>\n",
       "      <td>experience Moreover I on my side require of every writer first or</td>\n",
       "      <td>first</td>\n",
       "      <td>ORDINAL</td>\n",
       "      <td>\"first\", \"second\", etc.</td>\n",
       "    </tr>\n",
       "    <tr>\n",
       "      <th>9</th>\n",
       "      <td>I would fain say something not so much concerning the Chinese and</td>\n",
       "      <td>Chinese</td>\n",
       "      <td>NORP</td>\n",
       "      <td>Nationalities or religious or political groups</td>\n",
       "    </tr>\n",
       "    <tr>\n",
       "      <th>10</th>\n",
       "      <td>New England something about your condition especially your outward</td>\n",
       "      <td>New England</td>\n",
       "      <td>LOC</td>\n",
       "      <td>Non-GPE locations, mountain ranges, bodies of water</td>\n",
       "    </tr>\n",
       "    <tr>\n",
       "      <th>11</th>\n",
       "      <td>be improved as well as not I have travelled a good deal in Concord</td>\n",
       "      <td>Concord</td>\n",
       "      <td>ORG</td>\n",
       "      <td>Companies, agencies, institutions, etc.</td>\n",
       "    </tr>\n",
       "    <tr>\n",
       "      <th>...</th>\n",
       "      <td>...</td>\n",
       "      <td>...</td>\n",
       "      <td>...</td>\n",
       "      <td>...</td>\n",
       "    </tr>\n",
       "    <tr>\n",
       "      <th>3319</th>\n",
       "      <td>No man with a genius for legislation has appeared in America They are</td>\n",
       "      <td>America</td>\n",
       "      <td>GPE</td>\n",
       "      <td>Countries, cities, states</td>\n",
       "    </tr>\n",
       "    <tr>\n",
       "      <th>3320</th>\n",
       "      <td>of legislators in Congress for our guidance uncorrected by the</td>\n",
       "      <td>Congress</td>\n",
       "      <td>ORG</td>\n",
       "      <td>Companies, agencies, institutions, etc.</td>\n",
       "    </tr>\n",
       "    <tr>\n",
       "      <th>3321</th>\n",
       "      <td>America would not long retain her rank among the nations For eighteen</td>\n",
       "      <td>America</td>\n",
       "      <td>GPE</td>\n",
       "      <td>Countries, cities, states</td>\n",
       "    </tr>\n",
       "    <tr>\n",
       "      <th>3322</th>\n",
       "      <td>America would not long retain her rank among the nations For eighteen</td>\n",
       "      <td>eighteen</td>\n",
       "      <td>CARDINAL</td>\n",
       "      <td>Numerals that do not fall under another type</td>\n",
       "    </tr>\n",
       "    <tr>\n",
       "      <th>3323</th>\n",
       "      <td>hundred years though perchance I have no right to say it the New</td>\n",
       "      <td>hundred years</td>\n",
       "      <td>DATE</td>\n",
       "      <td>Absolute or relative dates or periods</td>\n",
       "    </tr>\n",
       "    <tr>\n",
       "      <th>3324</th>\n",
       "      <td>Testament has been written yet where is the legislator who has wisdom</td>\n",
       "      <td>Testament</td>\n",
       "      <td>PERSON</td>\n",
       "      <td>People, including fictional</td>\n",
       "    </tr>\n",
       "    <tr>\n",
       "      <th>3325</th>\n",
       "      <td>toward a true respect for the individual Even the Chinese philosopher</td>\n",
       "      <td>Chinese</td>\n",
       "      <td>NORP</td>\n",
       "      <td>Nationalities or religious or political groups</td>\n",
       "    </tr>\n",
       "    <tr>\n",
       "      <th>3326</th>\n",
       "      <td>really free and enlightened State until the State comes to recognize</td>\n",
       "      <td>State</td>\n",
       "      <td>ORG</td>\n",
       "      <td>Companies, agencies, institutions, etc.</td>\n",
       "    </tr>\n",
       "    <tr>\n",
       "      <th>3327</th>\n",
       "      <td>really free and enlightened State until the State comes to recognize</td>\n",
       "      <td>State</td>\n",
       "      <td>ORG</td>\n",
       "      <td>Companies, agencies, institutions, etc.</td>\n",
       "    </tr>\n",
       "    <tr>\n",
       "      <th>3328</th>\n",
       "      <td>please myself with imagining a State at last which can afford to be</td>\n",
       "      <td>State</td>\n",
       "      <td>ORG</td>\n",
       "      <td>Companies, agencies, institutions, etc.</td>\n",
       "    </tr>\n",
       "    <tr>\n",
       "      <th>3329</th>\n",
       "      <td>fellow men A State which bore this kind of fruit and suffered it to</td>\n",
       "      <td>A State</td>\n",
       "      <td>GPE</td>\n",
       "      <td>Countries, cities, states</td>\n",
       "    </tr>\n",
       "    <tr>\n",
       "      <th>3330</th>\n",
       "      <td>perfect and glorious State which also I have imagined but not yet</td>\n",
       "      <td>State</td>\n",
       "      <td>ORG</td>\n",
       "      <td>Companies, agencies, institutions, etc.</td>\n",
       "    </tr>\n",
       "  </tbody>\n",
       "</table>\n",
       "<p>3331 rows × 4 columns</p>\n",
       "</div>"
      ],
      "text/plain": [
       "                                                                        item  \\\n",
       "0         alone in the woods a mile from any neighbor in a house which I had   \n",
       "1          built myself on the shore of Walden Pond in Concord Massachusetts   \n",
       "2          built myself on the shore of Walden Pond in Concord Massachusetts   \n",
       "3          built myself on the shore of Walden Pond in Concord Massachusetts   \n",
       "4       and earned my living by the labor of my hands only I lived there two   \n",
       "5         years and two months At present I am a sojourner in civilized life   \n",
       "6           these questions in this book In most books the I or first person   \n",
       "7          all always the first person that is speaking I should not talk so   \n",
       "8          experience Moreover I on my side require of every writer first or   \n",
       "9          I would fain say something not so much concerning the Chinese and   \n",
       "10        New England something about your condition especially your outward   \n",
       "11        be improved as well as not I have travelled a good deal in Concord   \n",
       "...                                                                      ...   \n",
       "3319   No man with a genius for legislation has appeared in America They are   \n",
       "3320          of legislators in Congress for our guidance uncorrected by the   \n",
       "3321   America would not long retain her rank among the nations For eighteen   \n",
       "3322   America would not long retain her rank among the nations For eighteen   \n",
       "3323        hundred years though perchance I have no right to say it the New   \n",
       "3324   Testament has been written yet where is the legislator who has wisdom   \n",
       "3325   toward a true respect for the individual Even the Chinese philosopher   \n",
       "3326    really free and enlightened State until the State comes to recognize   \n",
       "3327    really free and enlightened State until the State comes to recognize   \n",
       "3328     please myself with imagining a State at last which can afford to be   \n",
       "3329     fellow men A State which bore this kind of fruit and suffered it to   \n",
       "3330       perfect and glorious State which also I have imagined but not yet   \n",
       "\n",
       "        entity_text entity_label  \\\n",
       "0            a mile     QUANTITY   \n",
       "1       Walden Pond          GPE   \n",
       "2           Concord          GPE   \n",
       "3     Massachusetts          GPE   \n",
       "4               two     CARDINAL   \n",
       "5        two months         DATE   \n",
       "6             first      ORDINAL   \n",
       "7             first      ORDINAL   \n",
       "8             first      ORDINAL   \n",
       "9           Chinese         NORP   \n",
       "10      New England          LOC   \n",
       "11          Concord          ORG   \n",
       "...             ...          ...   \n",
       "3319        America          GPE   \n",
       "3320       Congress          ORG   \n",
       "3321        America          GPE   \n",
       "3322       eighteen     CARDINAL   \n",
       "3323  hundred years         DATE   \n",
       "3324      Testament       PERSON   \n",
       "3325        Chinese         NORP   \n",
       "3326          State          ORG   \n",
       "3327          State          ORG   \n",
       "3328          State          ORG   \n",
       "3329        A State          GPE   \n",
       "3330          State          ORG   \n",
       "\n",
       "                                 entity_label_description  \n",
       "0                  Measurements, as of weight or distance  \n",
       "1                               Countries, cities, states  \n",
       "2                               Countries, cities, states  \n",
       "3                               Countries, cities, states  \n",
       "4            Numerals that do not fall under another type  \n",
       "5                   Absolute or relative dates or periods  \n",
       "6                                 \"first\", \"second\", etc.  \n",
       "7                                 \"first\", \"second\", etc.  \n",
       "8                                 \"first\", \"second\", etc.  \n",
       "9          Nationalities or religious or political groups  \n",
       "10    Non-GPE locations, mountain ranges, bodies of water  \n",
       "11                Companies, agencies, institutions, etc.  \n",
       "...                                                   ...  \n",
       "3319                            Countries, cities, states  \n",
       "3320              Companies, agencies, institutions, etc.  \n",
       "3321                            Countries, cities, states  \n",
       "3322         Numerals that do not fall under another type  \n",
       "3323                Absolute or relative dates or periods  \n",
       "3324                          People, including fictional  \n",
       "3325       Nationalities or religious or political groups  \n",
       "3326              Companies, agencies, institutions, etc.  \n",
       "3327              Companies, agencies, institutions, etc.  \n",
       "3328              Companies, agencies, institutions, etc.  \n",
       "3329                            Countries, cities, states  \n",
       "3330              Companies, agencies, institutions, etc.  \n",
       "\n",
       "[3331 rows x 4 columns]"
      ]
     },
     "execution_count": 62,
     "metadata": {},
     "output_type": "execute_result"
    }
   ],
   "source": [
    "Entities_List"
   ]
  },
  {
   "cell_type": "code",
   "execution_count": null,
   "metadata": {},
   "outputs": [],
   "source": []
  }
 ],
 "metadata": {
  "kernelspec": {
   "display_name": "Python 3",
   "language": "python",
   "name": "python3"
  },
  "language_info": {
   "codemirror_mode": {
    "name": "ipython",
    "version": 3
   },
   "file_extension": ".py",
   "mimetype": "text/x-python",
   "name": "python",
   "nbconvert_exporter": "python",
   "pygments_lexer": "ipython3",
   "version": "3.6.9"
  }
 },
 "nbformat": 4,
 "nbformat_minor": 2
}
